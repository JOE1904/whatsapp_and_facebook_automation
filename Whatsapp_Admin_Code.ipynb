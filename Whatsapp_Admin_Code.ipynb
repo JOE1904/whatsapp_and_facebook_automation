{
 "cells": [
  {
   "cell_type": "markdown",
   "metadata": {},
   "source": [
    "# **Code for Assigning Whatsapp Admin for Each Group:**"
   ]
  },
  {
   "cell_type": "code",
   "execution_count": 1,
   "metadata": {},
   "outputs": [],
   "source": [
    "from selenium import webdriver\n",
    "from selenium.common.exceptions import TimeoutException\n",
    "from selenium.webdriver.chrome.options import Options\n",
    "from selenium.webdriver.common.keys import Keys\n",
    "from selenium.webdriver.common.by import By\n",
    "from selenium.webdriver.support.ui import WebDriverWait\n",
    "from selenium.webdriver.support import expected_conditions as EC\n",
    "from selenium.webdriver.support.ui import Select\n",
    "from selenium.webdriver.common.action_chains import ActionChains"
   ]
  },
  {
   "cell_type": "markdown",
   "metadata": {},
   "source": [
    "## **Code**"
   ]
  },
  {
   "cell_type": "code",
   "execution_count": 18,
   "metadata": {},
   "outputs": [
    {
     "name": "stdout",
     "output_type": "stream",
     "text": [
      "Logged in and located search box: <selenium.webdriver.remote.webelement.WebElement (session=\"eaf8c2d2-fec5-44d7-9f50-7c92c66cd256\", element=\"71718e07-993a-4651-bb75-ef473dd4bbb0\")>\n",
      "Element is not immediately visible. Using the Search Bar for Searching....\n"
     ]
    }
   ],
   "source": [
    "from datetime import datetime\n",
    "import time\n",
    "from selenium.common.exceptions import StaleElementReferenceException\n",
    "from selenium.common.exceptions import NoSuchElementException\n",
    "\n",
    "\n",
    "driver = webdriver.Firefox()\n",
    "driver.get('https://web.whatsapp.com/')\n",
    "\n",
    "#wait 60 secs to allow for the user to manually scan the Whatsapp Web QR code to log on\n",
    "el_side = WebDriverWait(driver, 60).until(EC.element_to_be_clickable((By.ID, \"side\")))\n",
    "\n",
    "# # Maximize the browser window\n",
    "# driver.maximize_window()\n",
    "\n",
    "#locate the search box\n",
    "el_search = el_side.find_element(By.XPATH, \"//div[contains(@title, 'Search')]\")\n",
    "print(\"Logged in and located search box:\", el_search)\n",
    "start_time = datetime.now()\n",
    "\n",
    "# Put the Groups HERE: !!!!!!\n",
    "group_name = [\"Trial 1\"]\n",
    "\n",
    "\n",
    "# Finds Contact in Whatsapp Chat with correct Title: \n",
    "\n",
    "for group_name in group_name:\n",
    "    try:\n",
    "        el_target_chat = WebDriverWait(driver, 10).until(EC.element_to_be_clickable((By.XPATH, \"//span[@title='%s']\" % (group_name))))\n",
    "        el_target_chat.click()\n",
    "\n",
    "    except TimeoutException:\n",
    "    # If TimeoutException occurs, the element is not immediately visible\n",
    "        print(\"Element is not immediately visible. Using the Search Bar for Searching....\")\n",
    "\n",
    "    try:\n",
    "        search_bar = driver.find_element(By.XPATH,\"//div[@ class ='to2l77zo gfz4du6o ag5g9lrv bze30y65 kao4egtt qh0vvdkp'and @title='Search input textbox']\")\n",
    "        for char in group_name: \n",
    "            search_bar.send_keys(char)\n",
    "        \n",
    "        el_target_chat = WebDriverWait(driver,5).until(EC.element_to_be_clickable((By.XPATH,f\"//div[@class = '_21S-L']//span[@title= '{group_name}']\")))\n",
    "        el_target_chat.click()\n",
    "\n",
    "    except NoSuchElementException:\n",
    "        print(\"No Group Found... Kindly Check....\") \n",
    "\n",
    "    #click on the Group Info button In Selected Group: \n",
    "    el_menu_button = WebDriverWait(driver, 20).until(EC.element_to_be_clickable((By.XPATH, f\"//div[@class='_3W2ap']//span[text()='{group_name}']\"))) # \n",
    "    el_menu_button.click()\n",
    "\n",
    "\n",
    "\n",
    "    # Edit the Contact Name Here\n",
    "    contact_name = \"\"\n",
    "\n",
    "\n",
    "\n",
    "\n",
    "    #click on the Contact Dropdown Arrow button In Selected Group: \n",
    "    # Scroll to the element to make it visible\n",
    "\n",
    "    el_contact_button = WebDriverWait(driver, 20).until(EC.element_to_be_clickable(\n",
    "        (By.XPATH, f\"//div[@class='_21S-L']//div[@class='Mk0Bp _30scZ']//span[@title = '{contact_name}']\"))) \n",
    "    # Create an ActionChains object\n",
    "    actions = ActionChains(driver)\n",
    "    # Use JavaScript to scroll to the element\n",
    "    driver.execute_script(\"arguments[0].scrollIntoView(true);\", el_contact_button)\n",
    "\n",
    "    # Perform a right-click on the element\n",
    "    actions.context_click(el_contact_button).perform()\n",
    "    make_admin_button = driver.find_element(By.XPATH,\"/html/body/div[1]/div/span[5]/div/ul/div/li[1]/div\")\n",
    "    make_admin_button.click()\n",
    "\n",
    "    el_modal_popup = WebDriverWait(driver, 5).until(EC.element_to_be_clickable((By.XPATH,\"/html/body/div[1]/div/span[2]/div/div/div/div/div/div/div[2]/div/button[2]\")))\n",
    "    el_modal_popup.click()\n"
   ]
  },
  {
   "cell_type": "code",
   "execution_count": null,
   "metadata": {},
   "outputs": [],
   "source": []
  }
 ],
 "metadata": {
  "kernelspec": {
   "display_name": "Python 3",
   "language": "python",
   "name": "python3"
  },
  "language_info": {
   "codemirror_mode": {
    "name": "ipython",
    "version": 3
   },
   "file_extension": ".py",
   "mimetype": "text/x-python",
   "name": "python",
   "nbconvert_exporter": "python",
   "pygments_lexer": "ipython3",
   "version": "3.11.7"
  }
 },
 "nbformat": 4,
 "nbformat_minor": 2
}
